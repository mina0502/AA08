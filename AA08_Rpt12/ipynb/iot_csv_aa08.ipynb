{
  "nbformat": 4,
  "nbformat_minor": 0,
  "metadata": {
    "colab": {
      "name": "iot_csv_aa08.ipynb",
      "provenance": [],
      "private_outputs": true,
      "collapsed_sections": [],
      "toc_visible": true,
      "include_colab_link": true
    },
    "kernelspec": {
      "name": "python3",
      "display_name": "Python 3"
    }
  },
  "cells": [
    {
      "cell_type": "markdown",
      "metadata": {
        "id": "view-in-github",
        "colab_type": "text"
      },
      "source": [
        "<a href=\"https://colab.research.google.com/github/mina0502/AA08/blob/master/AA08_Rpt12/ipynb/iot_csv_aa08.ipynb\" target=\"_parent\"><img src=\"https://colab.research.google.com/assets/colab-badge.svg\" alt=\"Open In Colab\"/></a>"
      ]
    },
    {
      "cell_type": "markdown",
      "metadata": {
        "id": "4RyKlSBw1DjY",
        "colab_type": "text"
      },
      "source": [
        "### Pandas: Loading the remote csv file\n",
        "\n",
        "> [Pandas: Tutorial-reas_csv()](https://www.marsja.se/pandas-read-csv-tutorial-to-csv/amp/)  \n",
        "---\n",
        "> [파이썬 모듈 - pandas 기초 (by Redwoods)](https://github.com/Redwoods/Lec/blob/master/simulation/code/py_modules/py_module_3_pandas.ipynb)"
      ]
    },
    {
      "cell_type": "markdown",
      "metadata": {
        "id": "DISI_ImjVj-6",
        "colab_type": "text"
      },
      "source": [
        "\n",
        "\n",
        "---\n",
        "\n"
      ]
    },
    {
      "cell_type": "code",
      "metadata": {
        "id": "y8KjEOPg1Dja",
        "colab_type": "code",
        "colab": {}
      },
      "source": [
        "import pandas as pd"
      ],
      "execution_count": 0,
      "outputs": []
    },
    {
      "cell_type": "markdown",
      "metadata": {
        "colab_type": "text",
        "id": "a-Tqzf421eTG"
      },
      "source": [
        "### iot data\n",
        "> Sensor data from Arduino with CdS and DHT22\n",
        "\n",
        "- temperature\n",
        "- humidity\n",
        "- luminosity"
      ]
    },
    {
      "cell_type": "code",
      "metadata": {
        "colab_type": "code",
        "id": "aRwCtqFY1eSr",
        "colab": {}
      },
      "source": [
        "# Access a data file in csv format from the remote express server with CORS.\n",
        "url=\"/content/aa08_all.csv\"\n",
        "iot=pd.read_csv(url, index_col='date')"
      ],
      "execution_count": 0,
      "outputs": []
    },
    {
      "cell_type": "code",
      "metadata": {
        "colab_type": "code",
        "id": "FaPQL-vS1eSI",
        "colab": {}
      },
      "source": [
        "iot.shape"
      ],
      "execution_count": 0,
      "outputs": []
    },
    {
      "cell_type": "code",
      "metadata": {
        "colab_type": "code",
        "id": "VlSxeb3r1eRn",
        "colab": {}
      },
      "source": [
        "iot.head()"
      ],
      "execution_count": 0,
      "outputs": []
    },
    {
      "cell_type": "code",
      "metadata": {
        "colab_type": "code",
        "id": "5r-SbKTu1eRB",
        "colab": {}
      },
      "source": [
        "iot.tail()"
      ],
      "execution_count": 0,
      "outputs": []
    },
    {
      "cell_type": "code",
      "metadata": {
        "colab_type": "code",
        "id": "bV1LPo5j1eQc",
        "colab": {}
      },
      "source": [
        "iot.info()"
      ],
      "execution_count": 0,
      "outputs": []
    },
    {
      "cell_type": "code",
      "metadata": {
        "colab_type": "code",
        "id": "8QW_tHB-1ePy",
        "colab": {}
      },
      "source": [
        "iot.describe()"
      ],
      "execution_count": 0,
      "outputs": []
    },
    {
      "cell_type": "markdown",
      "metadata": {
        "colab_type": "text",
        "id": "1OkGD7Jx1ePO"
      },
      "source": [
        "#### Sort index by date"
      ]
    },
    {
      "cell_type": "code",
      "metadata": {
        "colab_type": "code",
        "id": "8p9oYm1v1eOs",
        "colab": {}
      },
      "source": [
        "iot_s = iot.sort_index()"
      ],
      "execution_count": 0,
      "outputs": []
    },
    {
      "cell_type": "code",
      "metadata": {
        "colab_type": "code",
        "id": "SJ0_MEhb1eOB",
        "colab": {}
      },
      "source": [
        "iot_s.head()"
      ],
      "execution_count": 0,
      "outputs": []
    },
    {
      "cell_type": "code",
      "metadata": {
        "colab_type": "code",
        "id": "qHyUTcdn1eNi",
        "colab": {}
      },
      "source": [
        "iot_s.tail()"
      ],
      "execution_count": 0,
      "outputs": []
    },
    {
      "cell_type": "code",
      "metadata": {
        "colab_type": "code",
        "id": "zIxsBrcC1eNH",
        "colab": {}
      },
      "source": [
        "iot_s.plot(figsize=(12,6), rot=90)"
      ],
      "execution_count": 0,
      "outputs": []
    },
    {
      "cell_type": "code",
      "metadata": {
        "colab_type": "code",
        "id": "DJo-AqNO1eMk",
        "colab": {}
      },
      "source": [
        "# 평균\n",
        "iot_s.mean()"
      ],
      "execution_count": 0,
      "outputs": []
    },
    {
      "cell_type": "code",
      "metadata": {
        "colab_type": "code",
        "id": "c_PMD69A1eMA",
        "colab": {}
      },
      "source": [
        "# 표준편차\n",
        "iot_s.std()"
      ],
      "execution_count": 0,
      "outputs": []
    },
    {
      "cell_type": "markdown",
      "metadata": {
        "colab_type": "text",
        "id": "ammaDghb1eLh"
      },
      "source": [
        "#### 평균과 표준편차를 이용한 그래프"
      ]
    },
    {
      "cell_type": "code",
      "metadata": {
        "colab_type": "code",
        "id": "Ry3gaQAX1eK-",
        "colab": {}
      },
      "source": [
        "iot_s.mean().plot.bar(figsize=(10,5), title=\"iot data: temp, humi, lumi\")"
      ],
      "execution_count": 0,
      "outputs": []
    },
    {
      "cell_type": "code",
      "metadata": {
        "colab_type": "code",
        "id": "D8Z8mZnr1eKe",
        "colab": {}
      },
      "source": [
        "iot_s.mean().plot.bar(figsize=(10,5), title=\"iot data: temp, humi, lumi\", yerr=iot_s.std(), rot=0)"
      ],
      "execution_count": 0,
      "outputs": []
    },
    {
      "cell_type": "markdown",
      "metadata": {
        "colab_type": "text",
        "id": "iLCMu3o81eKO"
      },
      "source": [
        "### 시간 간격에 따른 센서 데이터의 변화 그래프"
      ]
    },
    {
      "cell_type": "markdown",
      "metadata": {
        "colab_type": "text",
        "id": "esGBfxVS1eKF"
      },
      "source": [
        "## Plot the change of sensor data over various time spans.\n",
        "\n",
        "- resample the data at different frequency\n",
        "- time span: 60 sec, 1 hour, 1 day, 1 week"
      ]
    },
    {
      "cell_type": "code",
      "metadata": {
        "colab_type": "code",
        "id": "nubk0t_U1eJl",
        "colab": {}
      },
      "source": [
        "iot_s.info()"
      ],
      "execution_count": 0,
      "outputs": []
    },
    {
      "cell_type": "code",
      "metadata": {
        "colab_type": "code",
        "id": "83JgxSQI1eJD",
        "colab": {}
      },
      "source": [
        "# type of index\n",
        "iot_s.index[0], type(iot_s.index[0])"
      ],
      "execution_count": 0,
      "outputs": []
    },
    {
      "cell_type": "code",
      "metadata": {
        "colab_type": "code",
        "id": "vYl4oVa21eIg",
        "colab": {}
      },
      "source": [
        "# Convert index to timestamp\n",
        "iot_s.index = pd.to_datetime(iot_s.index)"
      ],
      "execution_count": 0,
      "outputs": []
    },
    {
      "cell_type": "code",
      "metadata": {
        "colab_type": "code",
        "id": "R2_rP08t1eHT",
        "colab": {}
      },
      "source": [
        "iot_s.info()"
      ],
      "execution_count": 0,
      "outputs": []
    },
    {
      "cell_type": "markdown",
      "metadata": {
        "colab_type": "text",
        "id": "xUeVMS7H1d_f"
      },
      "source": [
        "> 인덱스가 문자열에서 Datatime 인덱스로 전환되었다.\n",
        "\n",
        "> 시간 지정 및 계산 효과를 그래프에 반영한다."
      ]
    },
    {
      "cell_type": "code",
      "metadata": {
        "id": "BWJ5exVWZXMS",
        "colab_type": "code",
        "colab": {}
      },
      "source": [
        "# Estimate the mean of iot_s for every 10 minutes\n",
        "iot_s.resample('600S').mean()  # mean per each 10 minutes"
      ],
      "execution_count": 0,
      "outputs": []
    },
    {
      "cell_type": "code",
      "metadata": {
        "id": "eCl8F_FPZrdq",
        "colab_type": "code",
        "colab": {}
      },
      "source": [
        "#  Plot mean of the iot data per every 10 minutes \n",
        "iot_s.resample('600S').mean().plot(figsize=(12,6), title='10 minutes change of temp, humi, and lumi', \n",
        "                                ylim=[0,90])"
      ],
      "execution_count": 0,
      "outputs": []
    },
    {
      "cell_type": "code",
      "metadata": {
        "id": "p0dZyoMy1DlY",
        "colab_type": "code",
        "colab": {}
      },
      "source": [
        "# Estimate the mean of iot_s for every hour\n",
        "iot_s.resample('H').mean()  # mean per each hour"
      ],
      "execution_count": 0,
      "outputs": []
    },
    {
      "cell_type": "code",
      "metadata": {
        "id": "i3BiiT-L1Dle",
        "colab_type": "code",
        "colab": {}
      },
      "source": [
        "#  Plot mean of the iot data per every hour \n",
        "iot_s.resample('H').mean().plot(figsize=(12,6), title='Hourly change of temp, humi, and lumi', \n",
        "                                ylim=[0,90])"
      ],
      "execution_count": 0,
      "outputs": []
    },
    {
      "cell_type": "code",
      "metadata": {
        "id": "Mpaa7zcOZ6YL",
        "colab_type": "code",
        "colab": {}
      },
      "source": [
        "# Estimate the mean of iot_s for every day\n",
        "iot_s.resample('D').mean()  # mean per each day"
      ],
      "execution_count": 0,
      "outputs": []
    },
    {
      "cell_type": "code",
      "metadata": {
        "id": "1Na-aiX31Dli",
        "colab_type": "code",
        "colab": {}
      },
      "source": [
        "#  Plot mean of the iot data per every day\n",
        "iot_s.resample('D').mean().plot(kind='line', marker='o', ms=10, figsize=(12,6), title='Daily change of temperature, humidity, and luminosity')"
      ],
      "execution_count": 0,
      "outputs": []
    },
    {
      "cell_type": "code",
      "metadata": {
        "id": "YmAHT_XoaOls",
        "colab_type": "code",
        "colab": {}
      },
      "source": [
        "#  Plot bar graph using mean of the iot data per every day\n",
        "iot_s.resample('D').mean().plot(kind='bar', figsize=(12,6), title='Daily change of temperature, humidity, and luminosity')"
      ],
      "execution_count": 0,
      "outputs": []
    },
    {
      "cell_type": "markdown",
      "metadata": {
        "id": "63f12cUlajWa",
        "colab_type": "text"
      },
      "source": [
        "#### DIY\n",
        "1. 주별 평균값을 계산하시오.\n",
        "2. 주별 평균값을 시각화 하시오.\n",
        "\n"
      ]
    },
    {
      "cell_type": "markdown",
      "metadata": {
        "id": "zNs608SE3PxR",
        "colab_type": "text"
      },
      "source": [
        "\n",
        "\n",
        "---\n",
        "\n"
      ]
    },
    {
      "cell_type": "code",
      "metadata": {
        "id": "bSJOj1mh1Dl0",
        "colab_type": "code",
        "colab": {}
      },
      "source": [
        "iot_s.resample('W').mean()"
      ],
      "execution_count": 0,
      "outputs": []
    },
    {
      "cell_type": "code",
      "metadata": {
        "id": "BMrV7AEjplTA",
        "colab_type": "code",
        "colab": {}
      },
      "source": [
        "iot_s.resample('W').mean().plot(kind='line', marker='o', ms=10, figsize=(12,6), title='Daily change of temperature, humidity, and luminosity')"
      ],
      "execution_count": 0,
      "outputs": []
    },
    {
      "cell_type": "code",
      "metadata": {
        "id": "96zaIVYan9RW",
        "colab_type": "code",
        "colab": {}
      },
      "source": [
        "iot_s.resample('W').mean().plot(kind='bar', figsize=(12,6), title='Daily change of temperature, humidity, and luminosity')"
      ],
      "execution_count": 0,
      "outputs": []
    }
  ]
}